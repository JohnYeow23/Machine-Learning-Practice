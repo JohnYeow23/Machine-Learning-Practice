{
 "cells": [
  {
   "cell_type": "markdown",
   "metadata": {},
   "source": [
    "# Compare NLP Techniques: Build Model On word2vec Vectors"
   ]
  },
  {
   "cell_type": "markdown",
   "metadata": {},
   "source": [
    "### Read In Cleaned Text"
   ]
  },
  {
   "cell_type": "code",
   "execution_count": 2,
   "metadata": {},
   "outputs": [
    {
     "name": "stdout",
     "output_type": "stream",
     "text": [
      "Requirement already satisfied: gensim in /Users/itn.junyeow.yeo/anaconda3/envs/tensorflow/lib/python3.11/site-packages (4.3.3)\n",
      "Requirement already satisfied: numpy<2.0,>=1.18.5 in /Users/itn.junyeow.yeo/anaconda3/envs/tensorflow/lib/python3.11/site-packages (from gensim) (1.23.5)\n",
      "Requirement already satisfied: scipy<1.14.0,>=1.7.0 in /Users/itn.junyeow.yeo/anaconda3/envs/tensorflow/lib/python3.11/site-packages (from gensim) (1.13.0)\n",
      "Requirement already satisfied: smart-open>=1.8.1 in /Users/itn.junyeow.yeo/anaconda3/envs/tensorflow/lib/python3.11/site-packages (from gensim) (7.0.4)\n",
      "Requirement already satisfied: wrapt in /Users/itn.junyeow.yeo/anaconda3/envs/tensorflow/lib/python3.11/site-packages (from smart-open>=1.8.1->gensim) (1.14.1)\n",
      "Note: you may need to restart the kernel to use updated packages.\n"
     ]
    }
   ],
   "source": [
    "%pip install gensim"
   ]
  },
  {
   "cell_type": "code",
   "execution_count": 6,
   "metadata": {},
   "outputs": [],
   "source": [
    "# Load the cleaned training and test sets\n",
    "import gensim\n",
    "import numpy as np\n",
    "import pandas as pd\n",
    "\n",
    "X_train = pd.read_csv('../../../data/X_train.csv')\n",
    "X_test = pd.read_csv('../../../data/X_test.csv')\n",
    "y_train = pd.read_csv('../../../data/y_train.csv')\n",
    "y_test = pd.read_csv('../../../data/y_test.csv')"
   ]
  },
  {
   "cell_type": "markdown",
   "metadata": {},
   "source": [
    "### Create word2vec Vectors"
   ]
  },
  {
   "cell_type": "code",
   "execution_count": 8,
   "metadata": {},
   "outputs": [],
   "source": [
    "# Train a basic word2vec model\n",
    "w2v_model = gensim.models.Word2Vec(X_train,\n",
    "                                   vector_size=100,\n",
    "                                   window=5,\n",
    "                                   min_count=2)"
   ]
  },
  {
   "cell_type": "code",
   "execution_count": 11,
   "metadata": {},
   "outputs": [
    {
     "name": "stderr",
     "output_type": "stream",
     "text": [
      "/var/folders/cb/kcdc3hnj08b99sbr9qbhq0ym0000gq/T/ipykernel_91683/1665059885.py:3: VisibleDeprecationWarning: Creating an ndarray from ragged nested sequences (which is a list-or-tuple of lists-or-tuples-or ndarrays with different lengths or shapes) is deprecated. If you meant to do this, you must specify 'dtype=object' when creating the ndarray.\n",
      "  X_train_vect = np.array([np.array([w2v_model.wv[i] for i in ls if i in words])\n",
      "/var/folders/cb/kcdc3hnj08b99sbr9qbhq0ym0000gq/T/ipykernel_91683/1665059885.py:5: VisibleDeprecationWarning: Creating an ndarray from ragged nested sequences (which is a list-or-tuple of lists-or-tuples-or ndarrays with different lengths or shapes) is deprecated. If you meant to do this, you must specify 'dtype=object' when creating the ndarray.\n",
      "  X_test_vect = np.array([np.array([w2v_model.wv[i] for i in ls if i in words])\n"
     ]
    }
   ],
   "source": [
    "# Replace the words in each text message with the learned word vector\n",
    "words = set(w2v_model.wv.index_to_key)\n",
    "X_train_vect = np.array([np.array([w2v_model.wv[i] for i in ls if i in words])\n",
    "                         for ls in X_train['clean_text']])\n",
    "X_test_vect = np.array([np.array([w2v_model.wv[i] for i in ls if i in words])\n",
    "                         for ls in X_test['clean_text']])"
   ]
  },
  {
   "cell_type": "code",
   "execution_count": 12,
   "metadata": {},
   "outputs": [],
   "source": [
    "# Average the word vectors for each sentence (and assign a vector of zeros if the model\n",
    "# did not learn any of the words in the text message during training\n",
    "X_train_vect_avg = []\n",
    "for v in X_train_vect:\n",
    "    if v.size:\n",
    "        X_train_vect_avg.append(v.mean(axis=0))\n",
    "    else:\n",
    "        X_train_vect_avg.append(np.zeros(100, dtype=float))\n",
    "        \n",
    "X_test_vect_avg = []\n",
    "for v in X_test_vect:\n",
    "    if v.size:\n",
    "        X_test_vect_avg.append(v.mean(axis=0))\n",
    "    else:\n",
    "        X_test_vect_avg.append(np.zeros(100, dtype=float))"
   ]
  },
  {
   "cell_type": "code",
   "execution_count": 13,
   "metadata": {},
   "outputs": [
    {
     "data": {
      "text/plain": [
       "array([[-0.00861969,  0.00366574,  0.00518988, ..., -0.00239151,\n",
       "        -0.00951009,  0.00450588],\n",
       "       [-0.00053623,  0.00023643,  0.00510335, ..., -0.00704156,\n",
       "         0.00090146,  0.00639253],\n",
       "       [-0.00861969,  0.00366574,  0.00518988, ..., -0.00239151,\n",
       "        -0.00951009,  0.00450588],\n",
       "       ...,\n",
       "       [-0.00053623,  0.00023643,  0.00510335, ..., -0.00704156,\n",
       "         0.00090146,  0.00639253],\n",
       "       [-0.00053623,  0.00023643,  0.00510335, ..., -0.00704156,\n",
       "         0.00090146,  0.00639253],\n",
       "       [-0.00053623,  0.00023643,  0.00510335, ..., -0.00704156,\n",
       "         0.00090146,  0.00639253]], dtype=float32)"
      ]
     },
     "execution_count": 13,
     "metadata": {},
     "output_type": "execute_result"
    }
   ],
   "source": [
    "# What does the unaveraged version look like?\n",
    "X_train_vect[0]"
   ]
  },
  {
   "cell_type": "code",
   "execution_count": 14,
   "metadata": {},
   "outputs": [
    {
     "data": {
      "text/plain": [
       "array([-0.00521613,  0.00222182,  0.00515345,  0.00711766,  0.00040592,\n",
       "       -0.00656731,  0.00335962,  0.00727916, -0.003756  , -0.00515872,\n",
       "        0.00287008, -0.00549085, -0.00515227,  0.00687275, -0.00010544,\n",
       "        0.00341864,  0.00514818,  0.00477753, -0.00568223, -0.00430371,\n",
       "        0.00443823, -0.00048143,  0.00770198, -0.00538615,  0.00659043,\n",
       "        0.00025346, -0.00325434,  0.00497519, -0.00417413,  0.00222823,\n",
       "        0.00260635, -0.00291722,  0.00366906, -0.00637923,  0.00124678,\n",
       "        0.00079742,  0.0073906 ,  0.00103499,  0.0055413 ,  0.00336725,\n",
       "        0.00052897, -0.00193822, -0.00898901, -0.00205515, -0.00180942,\n",
       "        0.00444568,  0.00021234,  0.00315346,  0.00297248,  0.00492398,\n",
       "        0.00109105, -0.00361293, -0.00186092,  0.00235566,  0.00303475,\n",
       "        0.00297379,  0.00711888,  0.00092663, -0.00190609,  0.00842118,\n",
       "       -0.00560521,  0.00199206, -0.00442858, -0.00618105,  0.00144325,\n",
       "        0.00414906,  0.00412423, -0.00100854,  0.00314859,  0.00478742,\n",
       "        0.0001494 , -0.00154918,  0.00253591, -0.00010831,  0.00138428,\n",
       "       -0.0036439 , -0.00096894, -0.0017881 ,  0.00186676, -0.00580746,\n",
       "       -0.00578543,  0.00340561,  0.00510214, -0.00075226, -0.00170162,\n",
       "       -0.00041858,  0.00257786, -0.00774226,  0.00025021,  0.0001121 ,\n",
       "        0.00131663, -0.00083259,  0.00273434, -0.00447132,  0.00247693,\n",
       "        0.00367263, -0.00065924, -0.00434943, -0.00512628,  0.00530026],\n",
       "      dtype=float32)"
      ]
     },
     "execution_count": 14,
     "metadata": {},
     "output_type": "execute_result"
    }
   ],
   "source": [
    "# What does the averaged version look like?\n",
    "X_train_vect_avg[0]"
   ]
  },
  {
   "cell_type": "markdown",
   "metadata": {},
   "source": [
    "### Fit RandomForestClassifier On Top Of Word Vectors"
   ]
  },
  {
   "cell_type": "code",
   "execution_count": 15,
   "metadata": {},
   "outputs": [],
   "source": [
    "# Instantiate and fit a basic Random Forest model on top of the vectors\n",
    "from sklearn.ensemble import RandomForestClassifier\n",
    "\n",
    "rf = RandomForestClassifier()\n",
    "rf_model = rf.fit(X_train_vect_avg, y_train.values.ravel())"
   ]
  },
  {
   "cell_type": "code",
   "execution_count": 16,
   "metadata": {},
   "outputs": [],
   "source": [
    "# Use the trained model to make predictions on the test data\n",
    "y_pred = rf_model.predict(X_test_vect_avg)"
   ]
  },
  {
   "cell_type": "code",
   "execution_count": 17,
   "metadata": {},
   "outputs": [
    {
     "name": "stdout",
     "output_type": "stream",
     "text": [
      "Precision: 0.55 / Recall: 0.22 / Accuracy: 0.871\n"
     ]
    }
   ],
   "source": [
    "# Evaluate the predictions of the model on the holdout test set\n",
    "from sklearn.metrics import precision_score, recall_score\n",
    "\n",
    "precision = precision_score(y_test, y_pred)\n",
    "recall = recall_score(y_test, y_pred)\n",
    "print('Precision: {} / Recall: {} / Accuracy: {}'.format(\n",
    "    round(precision, 3), round(recall, 3), round((y_pred==y_test['label']).sum()/len(y_pred), 3)))"
   ]
  },
  {
   "cell_type": "code",
   "execution_count": null,
   "metadata": {},
   "outputs": [],
   "source": []
  }
 ],
 "metadata": {
  "kernelspec": {
   "display_name": "Python 3",
   "language": "python",
   "name": "python3"
  },
  "language_info": {
   "codemirror_mode": {
    "name": "ipython",
    "version": 3
   },
   "file_extension": ".py",
   "mimetype": "text/x-python",
   "name": "python",
   "nbconvert_exporter": "python",
   "pygments_lexer": "ipython3",
   "version": "3.11.5"
  }
 },
 "nbformat": 4,
 "nbformat_minor": 2
}
