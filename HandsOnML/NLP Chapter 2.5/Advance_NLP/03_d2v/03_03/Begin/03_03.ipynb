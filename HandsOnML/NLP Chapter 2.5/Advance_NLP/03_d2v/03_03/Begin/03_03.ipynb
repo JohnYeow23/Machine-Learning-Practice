{
 "cells": [
  {
   "cell_type": "markdown",
   "metadata": {},
   "source": [
    "# doc2vec: How To Implement doc2vec"
   ]
  },
  {
   "cell_type": "markdown",
   "metadata": {},
   "source": [
    "### Train Our Own Model"
   ]
  },
  {
   "cell_type": "code",
   "execution_count": 1,
   "metadata": {},
   "outputs": [],
   "source": [
    "# Read in data, clean it, and then split into train and test sets\n",
    "import gensim\n",
    "import pandas as pd\n",
    "from sklearn.model_selection import train_test_split\n",
    "pd.set_option('display.max_colwidth', 100)\n",
    "\n",
    "messages = pd.read_csv('../../../data/spam.csv', encoding='latin-1')\n",
    "messages = messages.drop(labels = [\"Unnamed: 2\", \"Unnamed: 3\", \"Unnamed: 4\"], axis = 1)\n",
    "messages.columns = [\"label\", \"text\"]\n",
    "messages['text_clean'] = messages['text'].apply(lambda x: gensim.utils.simple_preprocess(x))\n",
    "\n",
    "X_train, X_test, y_train, y_test = train_test_split(messages['text_clean'],\n",
    "                                                    messages['label'], test_size=0.2)"
   ]
  },
  {
   "cell_type": "code",
   "execution_count": 3,
   "metadata": {},
   "outputs": [],
   "source": [
    "# Create tagged document objects to prepare to train the model\n",
    "tagged_docs = [(i, v) for i, v in enumerate(X_train)]"
   ]
  },
  {
   "cell_type": "code",
   "execution_count": 5,
   "metadata": {},
   "outputs": [
    {
     "name": "stdout",
     "output_type": "stream",
     "text": [
      "(0, ['what', 'are', 'your', 'new', 'years', 'plans'])\n",
      "(1, ['thk', 'some', 'of', 'em', 'find', 'wtc', 'too', 'far', 'weiyi', 'not', 'goin', 'rest', 'dunno', 'yet', 'ur', 'goin', 'dinner', 'den', 'might', 'able', 'to', 'join'])\n",
      "(2, ['twinks', 'bears', 'scallies', 'skins', 'and', 'jocks', 'are', 'calling', 'now', 'don', 'miss', 'the', 'weekend', 'fun', 'call', 'at', 'min', 'stop', 'texts', 'call', 'nat', 'rate'])\n",
      "(3, ['headin', 'towards', 'busetop'])\n",
      "(4, ['double', 'mins', 'and', 'txts', 'months', 'free', 'bluetooth', 'on', 'orange', 'available', 'on', 'sony', 'nokia', 'motorola', 'phones', 'call', 'mobileupd', 'on', 'or', 'call', 'optout', 'dx'])\n"
     ]
    }
   ],
   "source": [
    "# Look at what a tagged document looks like\n",
    "for i in tagged_docs[:5]:\n",
    "    print(i)\n",
    "# tagged_docs[0]"
   ]
  },
  {
   "cell_type": "code",
   "execution_count": 6,
   "metadata": {},
   "outputs": [],
   "source": [
    "# Create tagged document objects to prepare to train the model\n",
    "tagged_docs = [gensim.models.doc2vec.TaggedDocument(v, [i]) for i, v in enumerate(X_train)]"
   ]
  },
  {
   "cell_type": "code",
   "execution_count": 7,
   "metadata": {},
   "outputs": [
    {
     "name": "stdout",
     "output_type": "stream",
     "text": [
      "TaggedDocument<['what', 'are', 'your', 'new', 'years', 'plans'], [0]>\n",
      "TaggedDocument<['thk', 'some', 'of', 'em', 'find', 'wtc', 'too', 'far', 'weiyi', 'not', 'goin', 'rest', 'dunno', 'yet', 'ur', 'goin', 'dinner', 'den', 'might', 'able', 'to', 'join'], [1]>\n",
      "TaggedDocument<['twinks', 'bears', 'scallies', 'skins', 'and', 'jocks', 'are', 'calling', 'now', 'don', 'miss', 'the', 'weekend', 'fun', 'call', 'at', 'min', 'stop', 'texts', 'call', 'nat', 'rate'], [2]>\n",
      "TaggedDocument<['headin', 'towards', 'busetop'], [3]>\n",
      "TaggedDocument<['double', 'mins', 'and', 'txts', 'months', 'free', 'bluetooth', 'on', 'orange', 'available', 'on', 'sony', 'nokia', 'motorola', 'phones', 'call', 'mobileupd', 'on', 'or', 'call', 'optout', 'dx'], [4]>\n"
     ]
    }
   ],
   "source": [
    "# Look at what a tagged document looks like\n",
    "for i in tagged_docs[:5]:\n",
    "    print(i)\n",
    "# tagged_docs[0]"
   ]
  },
  {
   "cell_type": "code",
   "execution_count": 8,
   "metadata": {},
   "outputs": [],
   "source": [
    "# Train a basic doc2vec model\n",
    "d2v_model = gensim.models.Doc2Vec( tagged_docs,\n",
    "                                    vector_size=100,\n",
    "                                    window=5,\n",
    "                                    min_count=2)"
   ]
  },
  {
   "cell_type": "code",
   "execution_count": 9,
   "metadata": {},
   "outputs": [
    {
     "ename": "TypeError",
     "evalue": "Parameter doc_words of infer_vector() must be a list of strings (not a single string).",
     "output_type": "error",
     "traceback": [
      "\u001b[0;31m---------------------------------------------------------------------------\u001b[0m",
      "\u001b[0;31mTypeError\u001b[0m                                 Traceback (most recent call last)",
      "Cell \u001b[0;32mIn[9], line 2\u001b[0m\n\u001b[1;32m      1\u001b[0m \u001b[38;5;66;03m# What happens if we pass in a single word like we did for word2vec?\u001b[39;00m\n\u001b[0;32m----> 2\u001b[0m \u001b[43md2v_model\u001b[49m\u001b[38;5;241;43m.\u001b[39;49m\u001b[43minfer_vector\u001b[49m\u001b[43m(\u001b[49m\u001b[38;5;124;43m'\u001b[39;49m\u001b[38;5;124;43mI am gay\u001b[39;49m\u001b[38;5;124;43m'\u001b[39;49m\u001b[43m)\u001b[49m\n",
      "File \u001b[0;32m/usr/local/lib/python3.11/site-packages/gensim/models/doc2vec.py:622\u001b[0m, in \u001b[0;36mDoc2Vec.infer_vector\u001b[0;34m(self, doc_words, alpha, min_alpha, epochs)\u001b[0m\n\u001b[1;32m    594\u001b[0m \u001b[38;5;250m\u001b[39m\u001b[38;5;124;03m\"\"\"Infer a vector for given post-bulk training document.\u001b[39;00m\n\u001b[1;32m    595\u001b[0m \n\u001b[1;32m    596\u001b[0m \u001b[38;5;124;03mNotes\u001b[39;00m\n\u001b[0;32m   (...)\u001b[0m\n\u001b[1;32m    619\u001b[0m \n\u001b[1;32m    620\u001b[0m \u001b[38;5;124;03m\"\"\"\u001b[39;00m\n\u001b[1;32m    621\u001b[0m \u001b[38;5;28;01mif\u001b[39;00m \u001b[38;5;28misinstance\u001b[39m(doc_words, \u001b[38;5;28mstr\u001b[39m):  \u001b[38;5;66;03m# a common mistake; fail with a nicer error\u001b[39;00m\n\u001b[0;32m--> 622\u001b[0m     \u001b[38;5;28;01mraise\u001b[39;00m \u001b[38;5;167;01mTypeError\u001b[39;00m(\u001b[38;5;124m\"\u001b[39m\u001b[38;5;124mParameter doc_words of infer_vector() must be a list of strings (not a single string).\u001b[39m\u001b[38;5;124m\"\u001b[39m)\n\u001b[1;32m    624\u001b[0m alpha \u001b[38;5;241m=\u001b[39m alpha \u001b[38;5;129;01mor\u001b[39;00m \u001b[38;5;28mself\u001b[39m\u001b[38;5;241m.\u001b[39malpha\n\u001b[1;32m    625\u001b[0m min_alpha \u001b[38;5;241m=\u001b[39m min_alpha \u001b[38;5;129;01mor\u001b[39;00m \u001b[38;5;28mself\u001b[39m\u001b[38;5;241m.\u001b[39mmin_alpha\n",
      "\u001b[0;31mTypeError\u001b[0m: Parameter doc_words of infer_vector() must be a list of strings (not a single string)."
     ]
    }
   ],
   "source": [
    "# What happens if we pass in a single word like we did for word2vec?\n",
    "d2v_model.infer_vector('Gay')"
   ]
  },
  {
   "cell_type": "code",
   "execution_count": 10,
   "metadata": {},
   "outputs": [
    {
     "data": {
      "text/plain": [
       "array([-0.00815558,  0.00435068,  0.00844627, -0.01270869, -0.00952795,\n",
       "       -0.02947788, -0.00926636,  0.03616752, -0.00639116, -0.0120073 ,\n",
       "       -0.00629653, -0.01861083,  0.00598847,  0.0107854 ,  0.0005481 ,\n",
       "       -0.01934811,  0.00073374, -0.01855777,  0.00172599, -0.03146045,\n",
       "        0.01091976,  0.01712501,  0.01684329, -0.01426483, -0.00590244,\n",
       "        0.00376845, -0.01407465, -0.01225969, -0.01167423,  0.0015641 ,\n",
       "        0.02643669,  0.00378451,  0.01154035, -0.02249581, -0.00876446,\n",
       "        0.0267533 , -0.00704357, -0.01268446, -0.01390227, -0.02744064,\n",
       "       -0.00872063, -0.00463759, -0.00046223, -0.02032328,  0.02243973,\n",
       "       -0.00548267, -0.01710602, -0.00641512,  0.00721884,  0.00865342,\n",
       "        0.00627967, -0.00907352,  0.00260557,  0.00211565, -0.00550139,\n",
       "        0.01048372,  0.00533774, -0.00644588, -0.0190436 ,  0.00567503,\n",
       "        0.00028225,  0.00132124, -0.00303744,  0.00214167, -0.02391867,\n",
       "        0.0141179 ,  0.00289306,  0.00346482, -0.02734283,  0.02124724,\n",
       "       -0.0131932 ,  0.01487663,  0.01245027,  0.00441633,  0.02017151,\n",
       "        0.01322582,  0.00188032, -0.00969975, -0.01334915,  0.00594323,\n",
       "       -0.01016329, -0.00244189, -0.01231264,  0.03350839, -0.01613204,\n",
       "        0.00133509, -0.00608962,  0.01888055,  0.02005104,  0.022192  ,\n",
       "        0.02063788,  0.00604923,  0.00526503, -0.00178681,  0.02260253,\n",
       "        0.02513484,  0.00571506, -0.01615813,  0.00610219,  0.00431174],\n",
       "      dtype=float32)"
      ]
     },
     "execution_count": 10,
     "metadata": {},
     "output_type": "execute_result"
    }
   ],
   "source": [
    "# What happens if we pass in a list of words?\n",
    "d2v_model.infer_vector(['I', 'am', 'gay'])"
   ]
  },
  {
   "cell_type": "markdown",
   "metadata": {},
   "source": [
    "### What About Pre-trained Document Vectors?\n",
    "\n",
    "There are not as many options as there are for word vectors. There also is not an easy API to read these in like there is for `word2vec` so it is more time consuming.\n",
    "\n",
    "Pre-trained vectors from training on Wikipedia and Associated Press News can be found [here](https://github.com/jhlau/doc2vec). Feel free to explore on your own!"
   ]
  }
 ],
 "metadata": {
  "kernelspec": {
   "display_name": "Python 3",
   "language": "python",
   "name": "python3"
  },
  "language_info": {
   "codemirror_mode": {
    "name": "ipython",
    "version": 3
   },
   "file_extension": ".py",
   "mimetype": "text/x-python",
   "name": "python",
   "nbconvert_exporter": "python",
   "pygments_lexer": "ipython3",
   "version": "3.11.7"
  }
 },
 "nbformat": 4,
 "nbformat_minor": 1
}
